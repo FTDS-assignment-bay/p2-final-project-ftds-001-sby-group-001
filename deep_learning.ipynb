{
 "cells": [
  {
   "cell_type": "markdown",
   "metadata": {},
   "source": [
    "## Import Libraries"
   ]
  },
  {
   "cell_type": "code",
   "execution_count": 1637,
   "metadata": {},
   "outputs": [],
   "source": [
    "import pandas as pd\n",
    "import numpy as np\n",
    "from scipy import stats\n",
    "import matplotlib.pyplot as plt\n",
    "import seaborn as sns\n",
    "\n",
    "from sklearn.model_selection import train_test_split\n",
    "from sklearn.pipeline import Pipeline, make_pipeline\n",
    "from sklearn.compose import ColumnTransformer\n",
    "from sklearn.preprocessing import MinMaxScaler, StandardScaler, OrdinalEncoder, OneHotEncoder\n",
    "\n",
    "from tensorflow.keras.models import Sequential\n",
    "from tensorflow.keras.layers import Input, Dense\n",
    "import tensorflow as tf\n",
    "from tensorflow import keras\n",
    "from tensorflow.keras.initializers import HeNormal, GlorotNormal, LecunNormal\n",
    "\n",
    "from imblearn.over_sampling import SMOTE\n",
    "from imblearn.under_sampling import RandomUnderSampler\n",
    "import pickle\n",
    "\n",
    "import warnings\n",
    "warnings.filterwarnings('ignore')"
   ]
  },
  {
   "cell_type": "markdown",
   "metadata": {},
   "source": [
    "## Load Data"
   ]
  },
  {
   "cell_type": "code",
   "execution_count": 1638,
   "metadata": {},
   "outputs": [
    {
     "data": {
      "text/html": [
       "<div>\n",
       "<style scoped>\n",
       "    .dataframe tbody tr th:only-of-type {\n",
       "        vertical-align: middle;\n",
       "    }\n",
       "\n",
       "    .dataframe tbody tr th {\n",
       "        vertical-align: top;\n",
       "    }\n",
       "\n",
       "    .dataframe thead th {\n",
       "        text-align: right;\n",
       "    }\n",
       "</style>\n",
       "<table border=\"1\" class=\"dataframe\">\n",
       "  <thead>\n",
       "    <tr style=\"text-align: right;\">\n",
       "      <th></th>\n",
       "      <th>gender</th>\n",
       "      <th>senior_citizen</th>\n",
       "      <th>partner</th>\n",
       "      <th>dependents</th>\n",
       "      <th>tenure</th>\n",
       "      <th>phone_service</th>\n",
       "      <th>multiple_lines</th>\n",
       "      <th>internet_service</th>\n",
       "      <th>online_security</th>\n",
       "      <th>online_backup</th>\n",
       "      <th>...</th>\n",
       "      <th>streaming_tv</th>\n",
       "      <th>streaming_movies</th>\n",
       "      <th>contract</th>\n",
       "      <th>paperless_billing</th>\n",
       "      <th>payment_method</th>\n",
       "      <th>monthly_charges</th>\n",
       "      <th>total_charges</th>\n",
       "      <th>churn</th>\n",
       "      <th>monthly_charges_cat</th>\n",
       "      <th>tenure_year</th>\n",
       "    </tr>\n",
       "  </thead>\n",
       "  <tbody>\n",
       "    <tr>\n",
       "      <th>0</th>\n",
       "      <td>Female</td>\n",
       "      <td>No</td>\n",
       "      <td>Yes</td>\n",
       "      <td>No</td>\n",
       "      <td>1</td>\n",
       "      <td>No</td>\n",
       "      <td>No phone service</td>\n",
       "      <td>DSL</td>\n",
       "      <td>No</td>\n",
       "      <td>Yes</td>\n",
       "      <td>...</td>\n",
       "      <td>No</td>\n",
       "      <td>No</td>\n",
       "      <td>Month-to-month</td>\n",
       "      <td>Yes</td>\n",
       "      <td>Electronic check</td>\n",
       "      <td>29.85</td>\n",
       "      <td>29.85</td>\n",
       "      <td>No</td>\n",
       "      <td>Low Expense</td>\n",
       "      <td>1</td>\n",
       "    </tr>\n",
       "    <tr>\n",
       "      <th>1</th>\n",
       "      <td>Male</td>\n",
       "      <td>No</td>\n",
       "      <td>No</td>\n",
       "      <td>No</td>\n",
       "      <td>34</td>\n",
       "      <td>Yes</td>\n",
       "      <td>No</td>\n",
       "      <td>DSL</td>\n",
       "      <td>Yes</td>\n",
       "      <td>No</td>\n",
       "      <td>...</td>\n",
       "      <td>No</td>\n",
       "      <td>No</td>\n",
       "      <td>One year</td>\n",
       "      <td>No</td>\n",
       "      <td>Mailed check</td>\n",
       "      <td>56.95</td>\n",
       "      <td>1889.50</td>\n",
       "      <td>No</td>\n",
       "      <td>Medium Expense</td>\n",
       "      <td>3</td>\n",
       "    </tr>\n",
       "    <tr>\n",
       "      <th>2</th>\n",
       "      <td>Male</td>\n",
       "      <td>No</td>\n",
       "      <td>No</td>\n",
       "      <td>No</td>\n",
       "      <td>2</td>\n",
       "      <td>Yes</td>\n",
       "      <td>No</td>\n",
       "      <td>DSL</td>\n",
       "      <td>Yes</td>\n",
       "      <td>Yes</td>\n",
       "      <td>...</td>\n",
       "      <td>No</td>\n",
       "      <td>No</td>\n",
       "      <td>Month-to-month</td>\n",
       "      <td>Yes</td>\n",
       "      <td>Mailed check</td>\n",
       "      <td>53.85</td>\n",
       "      <td>108.15</td>\n",
       "      <td>Yes</td>\n",
       "      <td>Medium Expense</td>\n",
       "      <td>1</td>\n",
       "    </tr>\n",
       "    <tr>\n",
       "      <th>3</th>\n",
       "      <td>Male</td>\n",
       "      <td>No</td>\n",
       "      <td>No</td>\n",
       "      <td>No</td>\n",
       "      <td>45</td>\n",
       "      <td>No</td>\n",
       "      <td>No phone service</td>\n",
       "      <td>DSL</td>\n",
       "      <td>Yes</td>\n",
       "      <td>No</td>\n",
       "      <td>...</td>\n",
       "      <td>No</td>\n",
       "      <td>No</td>\n",
       "      <td>One year</td>\n",
       "      <td>No</td>\n",
       "      <td>Bank transfer (automatic)</td>\n",
       "      <td>42.30</td>\n",
       "      <td>1840.75</td>\n",
       "      <td>No</td>\n",
       "      <td>Medium Expense</td>\n",
       "      <td>4</td>\n",
       "    </tr>\n",
       "    <tr>\n",
       "      <th>4</th>\n",
       "      <td>Female</td>\n",
       "      <td>No</td>\n",
       "      <td>No</td>\n",
       "      <td>No</td>\n",
       "      <td>2</td>\n",
       "      <td>Yes</td>\n",
       "      <td>No</td>\n",
       "      <td>Fiber optic</td>\n",
       "      <td>No</td>\n",
       "      <td>No</td>\n",
       "      <td>...</td>\n",
       "      <td>No</td>\n",
       "      <td>No</td>\n",
       "      <td>Month-to-month</td>\n",
       "      <td>Yes</td>\n",
       "      <td>Electronic check</td>\n",
       "      <td>70.70</td>\n",
       "      <td>151.65</td>\n",
       "      <td>Yes</td>\n",
       "      <td>Medium High Expense</td>\n",
       "      <td>1</td>\n",
       "    </tr>\n",
       "  </tbody>\n",
       "</table>\n",
       "<p>5 rows × 22 columns</p>\n",
       "</div>"
      ],
      "text/plain": [
       "   gender senior_citizen partner dependents  tenure phone_service  \\\n",
       "0  Female             No     Yes         No       1            No   \n",
       "1    Male             No      No         No      34           Yes   \n",
       "2    Male             No      No         No       2           Yes   \n",
       "3    Male             No      No         No      45            No   \n",
       "4  Female             No      No         No       2           Yes   \n",
       "\n",
       "     multiple_lines internet_service online_security online_backup  ...  \\\n",
       "0  No phone service              DSL              No           Yes  ...   \n",
       "1                No              DSL             Yes            No  ...   \n",
       "2                No              DSL             Yes           Yes  ...   \n",
       "3  No phone service              DSL             Yes            No  ...   \n",
       "4                No      Fiber optic              No            No  ...   \n",
       "\n",
       "  streaming_tv streaming_movies        contract paperless_billing  \\\n",
       "0           No               No  Month-to-month               Yes   \n",
       "1           No               No        One year                No   \n",
       "2           No               No  Month-to-month               Yes   \n",
       "3           No               No        One year                No   \n",
       "4           No               No  Month-to-month               Yes   \n",
       "\n",
       "              payment_method monthly_charges total_charges  churn  \\\n",
       "0           Electronic check           29.85         29.85     No   \n",
       "1               Mailed check           56.95       1889.50     No   \n",
       "2               Mailed check           53.85        108.15    Yes   \n",
       "3  Bank transfer (automatic)           42.30       1840.75     No   \n",
       "4           Electronic check           70.70        151.65    Yes   \n",
       "\n",
       "   monthly_charges_cat tenure_year  \n",
       "0          Low Expense           1  \n",
       "1       Medium Expense           3  \n",
       "2       Medium Expense           1  \n",
       "3       Medium Expense           4  \n",
       "4  Medium High Expense           1  \n",
       "\n",
       "[5 rows x 22 columns]"
      ]
     },
     "execution_count": 1638,
     "metadata": {},
     "output_type": "execute_result"
    }
   ],
   "source": [
    "df = pd.read_csv('telco_data_clean.csv', index_col=False)\n",
    "df.head()"
   ]
  },
  {
   "cell_type": "markdown",
   "metadata": {},
   "source": [
    "## Feature Engineering"
   ]
  },
  {
   "cell_type": "code",
   "execution_count": 1639,
   "metadata": {},
   "outputs": [],
   "source": [
    "df[\"churn\"]= df[\"churn\"].map({\"No\": 0, \"Yes\": 1})"
   ]
  },
  {
   "cell_type": "markdown",
   "metadata": {},
   "source": [
    "### Feature Selection"
   ]
  },
  {
   "cell_type": "code",
   "execution_count": 1640,
   "metadata": {},
   "outputs": [],
   "source": [
    "# numCol = ['monthly_charges', 'tenure_year']\n",
    "# catCol = ['senior_citizen', 'partner', 'dependents', 'internet_service', 'online_security',\n",
    "#        'online_backup', 'device_protection', 'tech_support', 'streaming_tv', 'streaming_movies', \n",
    "#        'contract', 'paperless_billing', 'payment_method']\n",
    "numCol = ['tenure_year', 'monthly_charges', 'total_charges']\n",
    "catCol = ['senior_citizen', 'partner', 'dependents', 'online_security', 'online_backup', 'device_protection', 'tech_support', 'contract', 'paperless_billing']\n",
    "# catCol = ['senior_citizen', 'online_backup', 'device_protection', 'tech_support', 'contract']\n",
    "targetCol = ['churn']"
   ]
  },
  {
   "cell_type": "code",
   "execution_count": 1641,
   "metadata": {},
   "outputs": [],
   "source": [
    "df = df[numCol + catCol + targetCol]"
   ]
  },
  {
   "cell_type": "markdown",
   "metadata": {},
   "source": [
    "### Split X, y"
   ]
  },
  {
   "cell_type": "code",
   "execution_count": 1643,
   "metadata": {},
   "outputs": [],
   "source": [
    "X = df.drop('churn', axis=1)\n",
    "y = df['churn']"
   ]
  },
  {
   "cell_type": "markdown",
   "metadata": {},
   "source": [
    "### Split Train, Validation, Test"
   ]
  },
  {
   "cell_type": "code",
   "execution_count": 1644,
   "metadata": {},
   "outputs": [
    {
     "name": "stdout",
     "output_type": "stream",
     "text": [
      "Train Size :  (5080, 12)\n",
      "Val Size :  (897, 12)\n",
      "Test Size :  (1055, 12)\n"
     ]
    }
   ],
   "source": [
    "# Split Between Train-Set, Val-Set, and Test-Set\n",
    "X_train_val, X_test, y_train_val, y_test = train_test_split(X,y, test_size = 0.15, random_state=42)\n",
    "X_train, X_val, y_train, y_val = train_test_split(X_train_val, y_train_val, test_size = 0.15, random_state=42)\n",
    "\n",
    "print(\"Train Size : \", X_train.shape)\n",
    "print(\"Val Size : \", X_val.shape)\n",
    "print(\"Test Size : \", X_test.shape)"
   ]
  },
  {
   "cell_type": "markdown",
   "metadata": {},
   "source": [
    "### Pipeline Scaling & Encoding"
   ]
  },
  {
   "cell_type": "code",
   "execution_count": 1645,
   "metadata": {},
   "outputs": [],
   "source": [
    "num_pipeline = make_pipeline(StandardScaler())\n",
    "\n",
    "cat_pipeline = make_pipeline(OneHotEncoder())\n",
    "\n",
    "final_pipeline = ColumnTransformer([\n",
    "    ('pipe_num', num_pipeline, numCol),\n",
    "    ('pipe_cat', cat_pipeline, catCol)\n",
    "])"
   ]
  },
  {
   "cell_type": "code",
   "execution_count": 1646,
   "metadata": {},
   "outputs": [],
   "source": [
    "# Fit and Transform\n",
    "X_train_pipe = final_pipeline.fit_transform(X_train)\n",
    "X_val_pipe = final_pipeline.transform(X_val)\n",
    "X_test_pipe = final_pipeline.transform(X_test)"
   ]
  },
  {
   "cell_type": "code",
   "execution_count": 1647,
   "metadata": {},
   "outputs": [],
   "source": [
    "# Oversampling\n",
    "# smote = SMOTE(sampling_strategy='minority', k_neighbors=5, random_state=42)     # Minority Class will have same the same number as the majority class\n",
    "# X_train_pipe, y_train = smote.fit_resample(X_train_pipe, y_train)\n",
    "# y_train.value_counts()\n",
    "\n",
    "\n",
    "# Undersampling\n",
    "# undersampling = RandomUnderSampler(sampling_strategy='auto', random_state=42)\n",
    "# X_train_pipe, y_train = undersampling.fit_resample(X_train_pipe, y_train)\n",
    "# y_train.value_counts()"
   ]
  },
  {
   "cell_type": "markdown",
   "metadata": {},
   "source": [
    "### Data Slices"
   ]
  },
  {
   "cell_type": "code",
   "execution_count": 1648,
   "metadata": {},
   "outputs": [],
   "source": [
    "train_pipe = tf.data.Dataset.from_tensor_slices((X_train_pipe,y_train)).batch(128).repeat(2).shuffle(len(y_train)).prefetch(tf.data.AUTOTUNE)\n",
    "test_pipe = tf.data.Dataset.from_tensor_slices((X_test_pipe,y_test)).batch(128)\n",
    "val_pipe = tf.data.Dataset.from_tensor_slices((X_val_pipe,y_val)).batch(128)"
   ]
  },
  {
   "cell_type": "markdown",
   "metadata": {},
   "source": [
    "### Count Data Shape"
   ]
  },
  {
   "cell_type": "code",
   "execution_count": 1649,
   "metadata": {},
   "outputs": [
    {
     "data": {
      "text/plain": [
       "(5080, 26)"
      ]
     },
     "execution_count": 1649,
     "metadata": {},
     "output_type": "execute_result"
    }
   ],
   "source": [
    "X_train_pipe.shape"
   ]
  },
  {
   "cell_type": "markdown",
   "metadata": {},
   "source": [
    "## Model Definition (Deep Learning)"
   ]
  },
  {
   "cell_type": "code",
   "execution_count": 1650,
   "metadata": {},
   "outputs": [],
   "source": [
    "# Clear Session\n",
    "seed = 20\n",
    "tf.keras.backend.clear_session()\n",
    "np.random.seed(seed)\n",
    "tf.random.set_seed(seed)"
   ]
  },
  {
   "cell_type": "code",
   "execution_count": 1651,
   "metadata": {},
   "outputs": [],
   "source": [
    "# Best Param\n",
    "# Optimizer = SGD(learning_rate=0.01)\n",
    "# Activation Function = Relu\n",
    "# Hidden Layer = 3\n",
    "# Neuron = 16, 8, 8"
   ]
  },
  {
   "cell_type": "code",
   "execution_count": 1652,
   "metadata": {},
   "outputs": [
    {
     "name": "stdout",
     "output_type": "stream",
     "text": [
      "Model: \"sequential\"\n",
      "_________________________________________________________________\n",
      " Layer (type)                Output Shape              Param #   \n",
      "=================================================================\n",
      " hidden-layer-1 (Dense)      (None, 16)                432       \n",
      "                                                                 \n",
      " batch_normalization (Batch  (None, 16)                64        \n",
      " Normalization)                                                  \n",
      "                                                                 \n",
      " hidden-layer-2 (Dense)      (None, 8)                 136       \n",
      "                                                                 \n",
      " batch_normalization_1 (Bat  (None, 8)                 32        \n",
      " chNormalization)                                                \n",
      "                                                                 \n",
      " hidden-layer-3 (Dense)      (None, 8)                 72        \n",
      "                                                                 \n",
      " batch_normalization_2 (Bat  (None, 8)                 32        \n",
      " chNormalization)                                                \n",
      "                                                                 \n",
      " output-layer (Dense)        (None, 1)                 9         \n",
      "                                                                 \n",
      "=================================================================\n",
      "Total params: 777 (3.04 KB)\n",
      "Trainable params: 713 (2.79 KB)\n",
      "Non-trainable params: 64 (256.00 Byte)\n",
      "_________________________________________________________________\n"
     ]
    }
   ],
   "source": [
    "# initializer = HeNormal(seed=seed)\n",
    "initializer = GlorotNormal(seed=seed)\n",
    "# initializer = LecunNormal(seed=seed)\n",
    "loss_function = tf.keras.losses.BinaryCrossentropy()\n",
    "# optimizer = tf.keras.optimizers.Adam(learning_rate=0.1)\n",
    "# optimizer = tf.keras.optimizers.Nadam(learning_rate=0.1)\n",
    "optimizer = tf.keras.optimizers.SGD(learning_rate=0.01) #nesterov=True)\n",
    "\n",
    "model_relu = Sequential([\n",
    "    Input(shape=(26,), name='input-layer'),\n",
    "    Dense(16, activation='relu', kernel_initializer=initializer, name='hidden-layer-1'),\n",
    "    keras.layers.BatchNormalization(),\n",
    "    Dense(8, activation='relu', kernel_initializer=initializer, name='hidden-layer-2'),\n",
    "    keras.layers.BatchNormalization(),\n",
    "    Dense(8, activation='relu', kernel_initializer=initializer, name='hidden-layer-3'),\n",
    "    keras.layers.BatchNormalization(),\n",
    "    # Dense(4, activation='relu', kernel_initializer=initializer, name='hidden-layer-4'),\n",
    "    # keras.layers.BatchNormalization(),\n",
    "    Dense(1, activation=\"sigmoid\", kernel_initializer=initializer, name='output-layer')\n",
    "])\n",
    "\n",
    "# Compile\n",
    "model_relu.compile(loss=loss_function,\n",
    "              optimizer=optimizer,\n",
    "              metrics=['Precision', 'accuracy'])\n",
    "model_relu.summary()"
   ]
  },
  {
   "cell_type": "code",
   "execution_count": 1653,
   "metadata": {},
   "outputs": [],
   "source": [
    "# model_sequential_1 = Sequential()\n",
    "# model_sequential_1.add(Dense(256, activation='relu', input_shape=(26,)))\n",
    "# model_sequential_1.add(Dense(128, activation='relu'))\n",
    "# model_sequential_1.add(Dense(64, activation='relu'))\n",
    "# model_sequential_1.add(Dense(32, activation='relu'))\n",
    "# model_sequential_1.add(Dense(1, activation='sigmoid'))\n",
    "\n",
    "\n",
    "# # Compile\n",
    "# model_sequential_1.compile(loss='binary_crossentropy',\n",
    "#                          optimizer='adam',\n",
    "#                          metrics=['Precision', 'accuracy'])\n",
    "\n",
    "# model_sequential_1.summary()"
   ]
  },
  {
   "cell_type": "markdown",
   "metadata": {},
   "source": [
    "## Model Training"
   ]
  },
  {
   "cell_type": "code",
   "execution_count": 1654,
   "metadata": {},
   "outputs": [
    {
     "name": "stdout",
     "output_type": "stream",
     "text": [
      "Epoch 1/60\n"
     ]
    },
    {
     "name": "stdout",
     "output_type": "stream",
     "text": [
      "80/80 [==============================] - 1s 5ms/step - loss: 0.6065 - precision: 0.4929 - accuracy: 0.7287 - val_loss: 0.5570 - val_precision: 0.5918 - val_accuracy: 0.7915\n",
      "Epoch 2/60\n",
      "80/80 [==============================] - 0s 2ms/step - loss: 0.5223 - precision: 0.5653 - accuracy: 0.7718 - val_loss: 0.4923 - val_precision: 0.6087 - val_accuracy: 0.7915\n",
      "Epoch 3/60\n",
      "80/80 [==============================] - 0s 3ms/step - loss: 0.4921 - precision: 0.5870 - accuracy: 0.7796 - val_loss: 0.4612 - val_precision: 0.6274 - val_accuracy: 0.8016\n",
      "Epoch 4/60\n",
      "80/80 [==============================] - 0s 2ms/step - loss: 0.4749 - precision: 0.6073 - accuracy: 0.7865 - val_loss: 0.4462 - val_precision: 0.6321 - val_accuracy: 0.8038\n",
      "Epoch 5/60\n",
      "80/80 [==============================] - 0s 2ms/step - loss: 0.4645 - precision: 0.6243 - accuracy: 0.7910 - val_loss: 0.4379 - val_precision: 0.6429 - val_accuracy: 0.8082\n",
      "Epoch 6/60\n",
      "80/80 [==============================] - 0s 2ms/step - loss: 0.4576 - precision: 0.6332 - accuracy: 0.7933 - val_loss: 0.4334 - val_precision: 0.6303 - val_accuracy: 0.8027\n",
      "Epoch 7/60\n",
      "80/80 [==============================] - 0s 3ms/step - loss: 0.4528 - precision: 0.6407 - accuracy: 0.7959 - val_loss: 0.4297 - val_precision: 0.6520 - val_accuracy: 0.8105\n",
      "Epoch 8/60\n",
      "80/80 [==============================] - 0s 3ms/step - loss: 0.4493 - precision: 0.6514 - accuracy: 0.7985 - val_loss: 0.4263 - val_precision: 0.6500 - val_accuracy: 0.8082\n",
      "Epoch 9/60\n",
      "80/80 [==============================] - 0s 2ms/step - loss: 0.4467 - precision: 0.6559 - accuracy: 0.7994 - val_loss: 0.4240 - val_precision: 0.6482 - val_accuracy: 0.8071\n",
      "Epoch 10/60\n",
      "80/80 [==============================] - 0s 2ms/step - loss: 0.4446 - precision: 0.6570 - accuracy: 0.7994 - val_loss: 0.4225 - val_precision: 0.6418 - val_accuracy: 0.8049\n",
      "Epoch 11/60\n",
      "80/80 [==============================] - 0s 3ms/step - loss: 0.4429 - precision: 0.6575 - accuracy: 0.7990 - val_loss: 0.4211 - val_precision: 0.6468 - val_accuracy: 0.8071\n",
      "Epoch 12/60\n",
      "80/80 [==============================] - 0s 2ms/step - loss: 0.4414 - precision: 0.6605 - accuracy: 0.7999 - val_loss: 0.4199 - val_precision: 0.6436 - val_accuracy: 0.8060\n",
      "Epoch 13/60\n",
      "80/80 [==============================] - 0s 2ms/step - loss: 0.4399 - precision: 0.6591 - accuracy: 0.8002 - val_loss: 0.4184 - val_precision: 0.6429 - val_accuracy: 0.8038\n",
      "Epoch 14/60\n",
      "80/80 [==============================] - 0s 3ms/step - loss: 0.4384 - precision: 0.6632 - accuracy: 0.8014 - val_loss: 0.4173 - val_precision: 0.6546 - val_accuracy: 0.8082\n",
      "Epoch 15/60\n",
      "80/80 [==============================] - 0s 2ms/step - loss: 0.4371 - precision: 0.6643 - accuracy: 0.8021 - val_loss: 0.4166 - val_precision: 0.6546 - val_accuracy: 0.8082\n",
      "Epoch 16/60\n",
      "80/80 [==============================] - 0s 2ms/step - loss: 0.4358 - precision: 0.6645 - accuracy: 0.8022 - val_loss: 0.4159 - val_precision: 0.6447 - val_accuracy: 0.8049\n",
      "Epoch 17/60\n",
      "80/80 [==============================] - 0s 2ms/step - loss: 0.4346 - precision: 0.6673 - accuracy: 0.8040 - val_loss: 0.4154 - val_precision: 0.6497 - val_accuracy: 0.8071\n",
      "Epoch 18/60\n",
      "80/80 [==============================] - 0s 2ms/step - loss: 0.4335 - precision: 0.6615 - accuracy: 0.8017 - val_loss: 0.4147 - val_precision: 0.6414 - val_accuracy: 0.8038\n",
      "Epoch 19/60\n",
      "80/80 [==============================] - 0s 2ms/step - loss: 0.4323 - precision: 0.6636 - accuracy: 0.8029 - val_loss: 0.4148 - val_precision: 0.6458 - val_accuracy: 0.8038\n",
      "Epoch 20/60\n",
      "80/80 [==============================] - 0s 2ms/step - loss: 0.4312 - precision: 0.6701 - accuracy: 0.8055 - val_loss: 0.4146 - val_precision: 0.6492 - val_accuracy: 0.8049\n",
      "Epoch 21/60\n",
      "80/80 [==============================] - 0s 3ms/step - loss: 0.4300 - precision: 0.6643 - accuracy: 0.8029 - val_loss: 0.4138 - val_precision: 0.6429 - val_accuracy: 0.8038\n",
      "Epoch 22/60\n",
      "80/80 [==============================] - 0s 2ms/step - loss: 0.4290 - precision: 0.6678 - accuracy: 0.8046 - val_loss: 0.4132 - val_precision: 0.6531 - val_accuracy: 0.8082\n",
      "Epoch 23/60\n",
      "80/80 [==============================] - 0s 2ms/step - loss: 0.4276 - precision: 0.6709 - accuracy: 0.8046 - val_loss: 0.4123 - val_precision: 0.6465 - val_accuracy: 0.8060\n",
      "Epoch 24/60\n",
      "80/80 [==============================] - 0s 3ms/step - loss: 0.4267 - precision: 0.6678 - accuracy: 0.8044 - val_loss: 0.4122 - val_precision: 0.6373 - val_accuracy: 0.8004\n",
      "Epoch 25/60\n",
      "80/80 [==============================] - 0s 3ms/step - loss: 0.4256 - precision: 0.6674 - accuracy: 0.8038 - val_loss: 0.4116 - val_precision: 0.6425 - val_accuracy: 0.8027\n",
      "Epoch 26/60\n",
      "80/80 [==============================] - 0s 2ms/step - loss: 0.4247 - precision: 0.6681 - accuracy: 0.8053 - val_loss: 0.4116 - val_precision: 0.6458 - val_accuracy: 0.8038\n",
      "Epoch 27/60\n",
      "80/80 [==============================] - 0s 3ms/step - loss: 0.4236 - precision: 0.6717 - accuracy: 0.8054 - val_loss: 0.4107 - val_precision: 0.6495 - val_accuracy: 0.8060\n",
      "Epoch 28/60\n",
      "80/80 [==============================] - 0s 3ms/step - loss: 0.4228 - precision: 0.6695 - accuracy: 0.8044 - val_loss: 0.4102 - val_precision: 0.6378 - val_accuracy: 0.8016\n",
      "Epoch 29/60\n",
      "80/80 [==============================] - 0s 2ms/step - loss: 0.4219 - precision: 0.6695 - accuracy: 0.8051 - val_loss: 0.4092 - val_precision: 0.6462 - val_accuracy: 0.8049\n",
      "Epoch 30/60\n",
      "80/80 [==============================] - 0s 2ms/step - loss: 0.4210 - precision: 0.6698 - accuracy: 0.8052 - val_loss: 0.4097 - val_precision: 0.6561 - val_accuracy: 0.8071\n",
      "Epoch 31/60\n",
      "80/80 [==============================] - 0s 2ms/step - loss: 0.4203 - precision: 0.6736 - accuracy: 0.8060 - val_loss: 0.4094 - val_precision: 0.6528 - val_accuracy: 0.8071\n",
      "Epoch 32/60\n",
      "80/80 [==============================] - 0s 2ms/step - loss: 0.4196 - precision: 0.6747 - accuracy: 0.8063 - val_loss: 0.4086 - val_precision: 0.6500 - val_accuracy: 0.8082\n",
      "Epoch 33/60\n",
      "80/80 [==============================] - 0s 3ms/step - loss: 0.4186 - precision: 0.6747 - accuracy: 0.8078 - val_loss: 0.4098 - val_precision: 0.6349 - val_accuracy: 0.7982\n",
      "Epoch 34/60\n",
      "80/80 [==============================] - 0s 3ms/step - loss: 0.4182 - precision: 0.6794 - accuracy: 0.8085 - val_loss: 0.4091 - val_precision: 0.6564 - val_accuracy: 0.8094\n",
      "Epoch 35/60\n",
      "80/80 [==============================] - 0s 2ms/step - loss: 0.4176 - precision: 0.6748 - accuracy: 0.8068 - val_loss: 0.4085 - val_precision: 0.6649 - val_accuracy: 0.8105\n",
      "Epoch 36/60\n",
      "80/80 [==============================] - 0s 2ms/step - loss: 0.4171 - precision: 0.6737 - accuracy: 0.8062 - val_loss: 0.4088 - val_precision: 0.6502 - val_accuracy: 0.8094\n",
      "Epoch 37/60\n",
      "80/80 [==============================] - 0s 2ms/step - loss: 0.4164 - precision: 0.6760 - accuracy: 0.8070 - val_loss: 0.4085 - val_precision: 0.6443 - val_accuracy: 0.8038\n",
      "Epoch 38/60\n",
      "80/80 [==============================] - 0s 2ms/step - loss: 0.4159 - precision: 0.6809 - accuracy: 0.8095 - val_loss: 0.4075 - val_precision: 0.6531 - val_accuracy: 0.8082\n",
      "Epoch 39/60\n",
      "80/80 [==============================] - 0s 3ms/step - loss: 0.4154 - precision: 0.6806 - accuracy: 0.8095 - val_loss: 0.4069 - val_precision: 0.6566 - val_accuracy: 0.8105\n",
      "Epoch 40/60\n",
      "80/80 [==============================] - 0s 2ms/step - loss: 0.4150 - precision: 0.6817 - accuracy: 0.8092 - val_loss: 0.4063 - val_precision: 0.6517 - val_accuracy: 0.8094\n",
      "Epoch 41/60\n",
      "80/80 [==============================] - 0s 3ms/step - loss: 0.4146 - precision: 0.6836 - accuracy: 0.8096 - val_loss: 0.4065 - val_precision: 0.6615 - val_accuracy: 0.8116\n",
      "Epoch 42/60\n",
      "80/80 [==============================] - 0s 2ms/step - loss: 0.4140 - precision: 0.6821 - accuracy: 0.8096 - val_loss: 0.4061 - val_precision: 0.6598 - val_accuracy: 0.8105\n",
      "Epoch 43/60\n",
      "80/80 [==============================] - 0s 2ms/step - loss: 0.4137 - precision: 0.6831 - accuracy: 0.8102 - val_loss: 0.4067 - val_precision: 0.6557 - val_accuracy: 0.8049\n",
      "Epoch 44/60\n",
      "80/80 [==============================] - 0s 2ms/step - loss: 0.4134 - precision: 0.6851 - accuracy: 0.8099 - val_loss: 0.4061 - val_precision: 0.6632 - val_accuracy: 0.8116\n",
      "Epoch 45/60\n",
      "80/80 [==============================] - 0s 2ms/step - loss: 0.4130 - precision: 0.6850 - accuracy: 0.8111 - val_loss: 0.4062 - val_precision: 0.6615 - val_accuracy: 0.8116\n",
      "Epoch 46/60\n",
      "80/80 [==============================] - 0s 3ms/step - loss: 0.4127 - precision: 0.6895 - accuracy: 0.8114 - val_loss: 0.4059 - val_precision: 0.6667 - val_accuracy: 0.8138\n",
      "Epoch 47/60\n",
      "80/80 [==============================] - 0s 2ms/step - loss: 0.4121 - precision: 0.6895 - accuracy: 0.8131 - val_loss: 0.4071 - val_precision: 0.6667 - val_accuracy: 0.8071\n",
      "Epoch 48/60\n",
      "80/80 [==============================] - 0s 3ms/step - loss: 0.4117 - precision: 0.6908 - accuracy: 0.8119 - val_loss: 0.4068 - val_precision: 0.6735 - val_accuracy: 0.8172\n",
      "Epoch 49/60\n",
      "80/80 [==============================] - 0s 2ms/step - loss: 0.4117 - precision: 0.6847 - accuracy: 0.8103 - val_loss: 0.4057 - val_precision: 0.6634 - val_accuracy: 0.8161\n",
      "Epoch 50/60\n",
      "80/80 [==============================] - 0s 2ms/step - loss: 0.4112 - precision: 0.6843 - accuracy: 0.8105 - val_loss: 0.4061 - val_precision: 0.6613 - val_accuracy: 0.8082\n",
      "Epoch 51/60\n",
      "80/80 [==============================] - 0s 2ms/step - loss: 0.4107 - precision: 0.6869 - accuracy: 0.8107 - val_loss: 0.4060 - val_precision: 0.6562 - val_accuracy: 0.8082\n",
      "Epoch 52/60\n",
      "80/80 [==============================] - 0s 2ms/step - loss: 0.4106 - precision: 0.6905 - accuracy: 0.8122 - val_loss: 0.4048 - val_precision: 0.6667 - val_accuracy: 0.8149\n",
      "Epoch 53/60\n",
      "80/80 [==============================] - 0s 2ms/step - loss: 0.4101 - precision: 0.6912 - accuracy: 0.8115 - val_loss: 0.4048 - val_precision: 0.6619 - val_accuracy: 0.8172\n",
      "Epoch 54/60\n",
      "80/80 [==============================] - 0s 2ms/step - loss: 0.4097 - precision: 0.6838 - accuracy: 0.8116 - val_loss: 0.4063 - val_precision: 0.6742 - val_accuracy: 0.8105\n",
      "Epoch 55/60\n",
      "80/80 [==============================] - 0s 3ms/step - loss: 0.4094 - precision: 0.6915 - accuracy: 0.8132 - val_loss: 0.4044 - val_precision: 0.6633 - val_accuracy: 0.8138\n",
      "Epoch 56/60\n",
      "80/80 [==============================] - 0s 2ms/step - loss: 0.4092 - precision: 0.6898 - accuracy: 0.8117 - val_loss: 0.4044 - val_precision: 0.6634 - val_accuracy: 0.8161\n",
      "Epoch 57/60\n",
      "80/80 [==============================] - 0s 2ms/step - loss: 0.4087 - precision: 0.6923 - accuracy: 0.8130 - val_loss: 0.4043 - val_precision: 0.6717 - val_accuracy: 0.8172\n",
      "Epoch 58/60\n",
      "80/80 [==============================] - 0s 3ms/step - loss: 0.4083 - precision: 0.6918 - accuracy: 0.8128 - val_loss: 0.4048 - val_precision: 0.6774 - val_accuracy: 0.8149\n",
      "Epoch 59/60\n",
      "80/80 [==============================] - 0s 2ms/step - loss: 0.4080 - precision: 0.6926 - accuracy: 0.8125 - val_loss: 0.4040 - val_precision: 0.6772 - val_accuracy: 0.8161\n",
      "Epoch 60/60\n",
      "80/80 [==============================] - 0s 2ms/step - loss: 0.4077 - precision: 0.6916 - accuracy: 0.8123 - val_loss: 0.4048 - val_precision: 0.6825 - val_accuracy: 0.8183\n",
      "CPU times: total: 17 s\n",
      "Wall time: 13.3 s\n"
     ]
    }
   ],
   "source": [
    "%%time\n",
    "# Train the Model\n",
    "model_relu_result = model_relu.fit(train_pipe, epochs=60, validation_data=val_pipe)"
   ]
  },
  {
   "cell_type": "markdown",
   "metadata": {},
   "source": [
    "## Model Evaluation"
   ]
  },
  {
   "cell_type": "code",
   "execution_count": 1655,
   "metadata": {},
   "outputs": [],
   "source": [
    "model_relu_df = pd.DataFrame(model_relu_result.history)"
   ]
  },
  {
   "cell_type": "code",
   "execution_count": 1656,
   "metadata": {},
   "outputs": [
    {
     "data": {
      "text/plain": [
       "<Axes: >"
      ]
     },
     "execution_count": 1656,
     "metadata": {},
     "output_type": "execute_result"
    },
    {
     "data": {
      "image/png": "[encoded data removed]",
      "text/plain": [
       "<Figure size 640x480 with 1 Axes>"
      ]
     },
     "metadata": {},
     "output_type": "display_data"
    },
    {
     "data": {
      "image/png": "[encoded data removed]",
      "text/plain": [
       "<Figure size 640x480 with 1 Axes>"
      ]
     },
     "metadata": {},
     "output_type": "display_data"
    }
   ],
   "source": [
    "model_relu_df[['loss', 'val_loss']].plot()\n",
    "model_relu_df[['precision', 'val_precision']].plot()"
   ]
  }
 ],
 "metadata": {
  "kernelspec": {
   "display_name": "base",
   "language": "python",
   "name": "python3"
  },
  "language_info": {
   "codemirror_mode": {
    "name": "ipython",
    "version": 3
   },
   "file_extension": ".py",
   "mimetype": "text/x-python",
   "name": "python",
   "nbconvert_exporter": "python",
   "pygments_lexer": "ipython3",
   "version": "3.11.4"
  }
 },
 "nbformat": 4,
 "nbformat_minor": 2
}
